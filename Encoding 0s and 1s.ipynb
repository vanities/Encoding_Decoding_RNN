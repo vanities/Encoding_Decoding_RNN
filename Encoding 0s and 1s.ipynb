{
 "cells": [
  {
   "cell_type": "code",
   "execution_count": 54,
   "metadata": {},
   "outputs": [],
   "source": [
    "# Import what we need for the job...\n",
    "import keras\n",
    "import numpy as np \n",
    "import matplotlib.pyplot as plt \n",
    "% matplotlib inline \n",
    "\n",
    "from keras_tqdm import TQDMNotebookCallback\n",
    "# Visualization \n",
    "from IPython.display import SVG \n",
    "from IPython.display import display \n",
    "from keras.utils.vis_utils import model_to_dot"
   ]
  },
  {
   "cell_type": "code",
   "execution_count": 55,
   "metadata": {},
   "outputs": [],
   "source": [
    "# length of sequences to model\n",
    "length = 10\n",
    "\n",
    "# make these the same for now\n",
    "# set the input length\n",
    "input_length = length\n",
    "# set the output length\n",
    "output_length = length"
   ]
  },
  {
   "cell_type": "code",
   "execution_count": 56,
   "metadata": {},
   "outputs": [
    {
     "data": {
      "text/plain": [
       "array([[[ 1.],\n",
       "        [ 1.],\n",
       "        [ 1.],\n",
       "        [ 0.],\n",
       "        [ 0.],\n",
       "        [ 1.],\n",
       "        [ 0.],\n",
       "        [ 0.],\n",
       "        [ 0.],\n",
       "        [ 0.]]])"
      ]
     },
     "execution_count": 56,
     "metadata": {},
     "output_type": "execute_result"
    }
   ],
   "source": [
    "# generating a random string of 0s and 1s\n",
    "# (1, 10, 1)\n",
    "x_train = np.round(np.random.uniform(0,1,[length])).reshape([1,length,1])\n",
    "x_train"
   ]
  },
  {
   "cell_type": "code",
   "execution_count": 57,
   "metadata": {},
   "outputs": [],
   "source": [
    "# parity calculator\n",
    "def parity(x):\n",
    "    # create a 3d of 0s (1, 10, 1)\n",
    "    temp = np.zeros(x.shape)\n",
    "    \n",
    "    # initialize mem\n",
    "    mem = False\n",
    "    \n",
    "    # iterate over the sequence\n",
    "    for i in range(x.shape[0]):\n",
    "        # if 1, True\n",
    "        # if 0, False\n",
    "        current = True if x[i,0] > 0.5 else False\n",
    "        \n",
    "        # xor mem and curr\n",
    "        mem = np.logical_xor(mem, current)\n",
    "        \n",
    "        # if mem True, temp i = 1.0\n",
    "        # else temp i = 0.0\n",
    "        temp[i,0] = 1.0 if mem else 0.0\n",
    "        \n",
    "    # return (1, 10, 1)\n",
    "    return temp.reshape(1, temp.shape[0], temp.shape[1])\n"
   ]
  },
  {
   "cell_type": "code",
   "execution_count": 58,
   "metadata": {},
   "outputs": [
    {
     "data": {
      "text/plain": [
       "array([[[ 1.],\n",
       "        [ 0.],\n",
       "        [ 1.],\n",
       "        [ 1.],\n",
       "        [ 1.],\n",
       "        [ 0.],\n",
       "        [ 0.],\n",
       "        [ 0.],\n",
       "        [ 0.],\n",
       "        [ 0.]]])"
      ]
     },
     "execution_count": 58,
     "metadata": {},
     "output_type": "execute_result"
    }
   ],
   "source": [
    "y_train = parity(x_train[0,:,:])\n",
    "y_train"
   ]
  },
  {
   "cell_type": "code",
   "execution_count": 59,
   "metadata": {},
   "outputs": [
    {
     "data": {
      "text/plain": [
       "array([[[ 0.,  1.],\n",
       "        [ 0.,  1.],\n",
       "        [ 0.,  1.],\n",
       "        [ 1.,  0.],\n",
       "        [ 1.,  0.],\n",
       "        [ 0.,  1.],\n",
       "        [ 1.,  0.],\n",
       "        [ 1.,  0.],\n",
       "        [ 1.,  0.],\n",
       "        [ 1.,  0.]]])"
      ]
     },
     "execution_count": 59,
     "metadata": {},
     "output_type": "execute_result"
    }
   ],
   "source": [
    "# encode X as input\n",
    "X = np.expand_dims(keras.utils.to_categorical(x_train[0,:,0]), axis = 0)\n",
    "X"
   ]
  },
  {
   "cell_type": "code",
   "execution_count": 60,
   "metadata": {},
   "outputs": [
    {
     "data": {
      "text/plain": [
       "array([[[ 0.,  0.,  1.,  0.],\n",
       "        [ 0.,  1.,  0.,  0.],\n",
       "        [ 1.,  0.,  0.,  0.],\n",
       "        [ 0.,  1.,  0.,  0.],\n",
       "        [ 0.,  1.,  0.,  0.],\n",
       "        [ 0.,  1.,  0.,  0.],\n",
       "        [ 1.,  0.,  0.,  0.],\n",
       "        [ 1.,  0.,  0.,  0.],\n",
       "        [ 1.,  0.,  0.,  0.],\n",
       "        [ 1.,  0.,  0.,  0.],\n",
       "        [ 1.,  0.,  0.,  0.],\n",
       "        [ 0.,  0.,  0.,  1.]]])"
      ]
     },
     "execution_count": 60,
     "metadata": {},
     "output_type": "execute_result"
    }
   ],
   "source": [
    "# encode Y as output\n",
    "Y = np.expand_dims(np.vstack([np.array([0,0,1,0]),\n",
    "                             np.hstack([keras.utils.to_categorical(y_train[0,:,0]),\n",
    "                                       np.zeros([output_length, 2])]),\n",
    "                             np.array([0,0,0,1])]), axis=0)\n",
    "Y"
   ]
  },
  {
   "cell_type": "code",
   "execution_count": 61,
   "metadata": {},
   "outputs": [
    {
     "name": "stdout",
     "output_type": "stream",
     "text": [
      "(1, 10, 2)\n",
      "(1, 12, 4)\n"
     ]
    }
   ],
   "source": [
    "print(X.shape)\n",
    "print(Y.shape)"
   ]
  },
  {
   "cell_type": "code",
   "execution_count": 62,
   "metadata": {},
   "outputs": [
    {
     "name": "stdout",
     "output_type": "stream",
     "text": [
      "(1, 11, 4)\n",
      "(1, 11, 4)\n"
     ]
    }
   ],
   "source": [
    "# 12 time steps.. (10 + start + stop)\n",
    "# 0 ... 10\n",
    "preY = Y[:,0:output_length+1,:]\n",
    "\n",
    "# 1 ... 11\n",
    "postY = Y[:,1:output_length+2,:]\n",
    "\n",
    "print(preY.shape)\n",
    "print(postY.shape)"
   ]
  },
  {
   "cell_type": "code",
   "execution_count": 63,
   "metadata": {},
   "outputs": [
    {
     "name": "stdout",
     "output_type": "stream",
     "text": [
      "__________________________________________________________________________________________________\n",
      "Layer (type)                    Output Shape         Param #     Connected to                     \n",
      "==================================================================================================\n",
      "input_13 (InputLayer)           (None, None, 2)      0                                            \n",
      "__________________________________________________________________________________________________\n",
      "input_14 (InputLayer)           (None, None, 4)      0                                            \n",
      "__________________________________________________________________________________________________\n",
      "lstm_11 (LSTM)                  [(None, 20), (None,  1840        input_13[0][0]                   \n",
      "__________________________________________________________________________________________________\n",
      "lstm_12 (LSTM)                  [(None, None, 20), ( 2000        input_14[0][0]                   \n",
      "                                                                 lstm_11[0][1]                    \n",
      "                                                                 lstm_11[0][2]                    \n",
      "__________________________________________________________________________________________________\n",
      "dense_6 (Dense)                 (None, None, 4)      84          lstm_12[0][0]                    \n",
      "==================================================================================================\n",
      "Total params: 3,924\n",
      "Trainable params: 3,924\n",
      "Non-trainable params: 0\n",
      "__________________________________________________________________________________________________\n"
     ]
    }
   ],
   "source": [
    "# size of gestalt context representation\n",
    "hidden_size = input_length * 2\n",
    "\n",
    "# encoder construction\n",
    "# make layers\n",
    "encoder_input = keras.layers.Input(shape= (None, X.shape[2]))\n",
    "encoder_hidden = keras.layers.LSTM(hidden_size, return_state = True)\n",
    "\n",
    "# tie the hidden layer to the input layer\n",
    "encoder_output, enc_state_h, enc_state_c = encoder_hidden(encoder_input)\n",
    "\n",
    "# discard encoder outputs and keep only the states\n",
    "encoder_states = [enc_state_h, enc_state_c]\n",
    "\n",
    "\n",
    "# decoder construction\n",
    "# set up the decoder using encoder states as the initial state\n",
    "decoder_input = keras.layers.Input(shape= (None, preY.shape[2]))\n",
    "decoder_hidden = keras.layers.LSTM(hidden_size, return_sequences = True, return_state = True)\n",
    "\n",
    "# connect hidden to input\n",
    "decoder_hidden_output, decoder_state_h, decoder_state_c = decoder_hidden(decoder_input,\n",
    "                                                                         initial_state = encoder_states)\n",
    "\n",
    "decoder_dense = keras.layers.Dense(postY.shape[2], activation = 'softmax')\n",
    "\n",
    "# connect output to hidden\n",
    "decoder_output = decoder_dense(decoder_hidden_output)\n",
    "\n",
    "# Our functoinal API model now has two input layers..\n",
    "# 1. reads from X\n",
    "# 2. reads from preY\n",
    "# single output layer\n",
    "#1. targets are postY\n",
    "model = keras.Model([encoder_input, decoder_input], decoder_output)\n",
    "\n",
    "# compile it\n",
    "model.compile(loss = keras.losses.categorical_crossentropy,\n",
    "              optimizer = keras.optimizers.Adam(),\n",
    "              metrics = ['accuracy'])\n",
    "\n",
    "model.summary()"
   ]
  },
  {
   "cell_type": "code",
   "execution_count": 64,
   "metadata": {},
   "outputs": [
    {
     "data": {
      "image/svg+xml": [
       "<svg height=\"264pt\" viewBox=\"0.00 0.00 277.00 264.00\" width=\"277pt\" xmlns=\"http://www.w3.org/2000/svg\" xmlns:xlink=\"http://www.w3.org/1999/xlink\">\n",
       "<g class=\"graph\" id=\"graph0\" transform=\"scale(1 1) rotate(0) translate(4 260)\">\n",
       "<title>G</title>\n",
       "<polygon fill=\"white\" points=\"-4,4 -4,-260 273,-260 273,4 -4,4\" stroke=\"none\"/>\n",
       "<!-- 139877422036248 -->\n",
       "<g class=\"node\" id=\"node1\"><title>139877422036248</title>\n",
       "<polygon fill=\"none\" points=\"0,-219.5 0,-255.5 132,-255.5 132,-219.5 0,-219.5\" stroke=\"black\"/>\n",
       "<text font-family=\"Times,serif\" font-size=\"14.00\" text-anchor=\"middle\" x=\"66\" y=\"-233.8\">input_13: InputLayer</text>\n",
       "</g>\n",
       "<!-- 139877422036304 -->\n",
       "<g class=\"node\" id=\"node3\"><title>139877422036304</title>\n",
       "<polygon fill=\"none\" points=\"13.5,-146.5 13.5,-182.5 118.5,-182.5 118.5,-146.5 13.5,-146.5\" stroke=\"black\"/>\n",
       "<text font-family=\"Times,serif\" font-size=\"14.00\" text-anchor=\"middle\" x=\"66\" y=\"-160.8\">lstm_11: LSTM</text>\n",
       "</g>\n",
       "<!-- 139877422036248&#45;&gt;139877422036304 -->\n",
       "<g class=\"edge\" id=\"edge1\"><title>139877422036248-&gt;139877422036304</title>\n",
       "<path d=\"M66,-219.313C66,-211.289 66,-201.547 66,-192.569\" fill=\"none\" stroke=\"black\"/>\n",
       "<polygon fill=\"black\" points=\"69.5001,-192.529 66,-182.529 62.5001,-192.529 69.5001,-192.529\" stroke=\"black\"/>\n",
       "</g>\n",
       "<!-- 139877422037368 -->\n",
       "<g class=\"node\" id=\"node2\"><title>139877422037368</title>\n",
       "<polygon fill=\"none\" points=\"137,-146.5 137,-182.5 269,-182.5 269,-146.5 137,-146.5\" stroke=\"black\"/>\n",
       "<text font-family=\"Times,serif\" font-size=\"14.00\" text-anchor=\"middle\" x=\"203\" y=\"-160.8\">input_14: InputLayer</text>\n",
       "</g>\n",
       "<!-- 139877422036528 -->\n",
       "<g class=\"node\" id=\"node4\"><title>139877422036528</title>\n",
       "<polygon fill=\"none\" points=\"81.5,-73.5 81.5,-109.5 186.5,-109.5 186.5,-73.5 81.5,-73.5\" stroke=\"black\"/>\n",
       "<text font-family=\"Times,serif\" font-size=\"14.00\" text-anchor=\"middle\" x=\"134\" y=\"-87.8\">lstm_12: LSTM</text>\n",
       "</g>\n",
       "<!-- 139877422037368&#45;&gt;139877422036528 -->\n",
       "<g class=\"edge\" id=\"edge2\"><title>139877422037368-&gt;139877422036528</title>\n",
       "<path d=\"M186.297,-146.313C177.737,-137.505 167.164,-126.625 157.769,-116.958\" fill=\"none\" stroke=\"black\"/>\n",
       "<polygon fill=\"black\" points=\"160.029,-114.261 150.549,-109.529 155.009,-119.14 160.029,-114.261\" stroke=\"black\"/>\n",
       "</g>\n",
       "<!-- 139877422036304&#45;&gt;139877422036528 -->\n",
       "<g class=\"edge\" id=\"edge3\"><title>139877422036304-&gt;139877422036528</title>\n",
       "<path d=\"M82.4609,-146.313C90.897,-137.505 101.317,-126.625 110.575,-116.958\" fill=\"none\" stroke=\"black\"/>\n",
       "<polygon fill=\"black\" points=\"113.302,-119.172 117.691,-109.529 108.246,-114.33 113.302,-119.172\" stroke=\"black\"/>\n",
       "</g>\n",
       "<!-- 139877294097744 -->\n",
       "<g class=\"node\" id=\"node5\"><title>139877294097744</title>\n",
       "<polygon fill=\"none\" points=\"83,-0.5 83,-36.5 185,-36.5 185,-0.5 83,-0.5\" stroke=\"black\"/>\n",
       "<text font-family=\"Times,serif\" font-size=\"14.00\" text-anchor=\"middle\" x=\"134\" y=\"-14.8\">dense_6: Dense</text>\n",
       "</g>\n",
       "<!-- 139877422036528&#45;&gt;139877294097744 -->\n",
       "<g class=\"edge\" id=\"edge5\"><title>139877422036528-&gt;139877294097744</title>\n",
       "<path d=\"M134,-73.3129C134,-65.2895 134,-55.5475 134,-46.5691\" fill=\"none\" stroke=\"black\"/>\n",
       "<polygon fill=\"black\" points=\"137.5,-46.5288 134,-36.5288 130.5,-46.5289 137.5,-46.5288\" stroke=\"black\"/>\n",
       "</g>\n",
       "</g>\n",
       "</svg>"
      ],
      "text/plain": [
       "<IPython.core.display.SVG object>"
      ]
     },
     "execution_count": 64,
     "metadata": {},
     "output_type": "execute_result"
    }
   ],
   "source": [
    "# visualization - wish we could see the recurrenct weights\n",
    "SVG(model_to_dot(model).create(prog = 'dot', format = 'svg'))"
   ]
  },
  {
   "cell_type": "code",
   "execution_count": 65,
   "metadata": {},
   "outputs": [
    {
     "data": {
      "application/vnd.jupyter.widget-view+json": {
       "model_id": "3bc8a0ce867847809b7ba8d7519fd0b9",
       "version_major": 2,
       "version_minor": 0
      },
      "text/html": [
       "<p>Failed to display Jupyter Widget of type <code>HBox</code>.</p>\n",
       "<p>\n",
       "  If you're reading this message in the Jupyter Notebook or JupyterLab Notebook, it may mean\n",
       "  that the widgets JavaScript is still loading. If this message persists, it\n",
       "  likely means that the widgets JavaScript library is either not installed or\n",
       "  not enabled. See the <a href=\"https://ipywidgets.readthedocs.io/en/stable/user_install.html\">Jupyter\n",
       "  Widgets Documentation</a> for setup instructions.\n",
       "</p>\n",
       "<p>\n",
       "  If you're reading this message in another frontend (for example, a static\n",
       "  rendering on GitHub or <a href=\"https://nbviewer.jupyter.org/\">NBViewer</a>),\n",
       "  it may mean that your frontend doesn't currently support widgets.\n",
       "</p>\n"
      ],
      "text/plain": [
       "HBox(children=(IntProgress(value=0, description='Training', max=200), HTML(value='')))"
      ]
     },
     "metadata": {},
     "output_type": "display_data"
    },
    {
     "data": {
      "application/vnd.jupyter.widget-view+json": {
       "model_id": "45a2ae408c5f44ea9ab61f942feb9002",
       "version_major": 2,
       "version_minor": 0
      },
      "text/html": [
       "<p>Failed to display Jupyter Widget of type <code>HBox</code>.</p>\n",
       "<p>\n",
       "  If you're reading this message in the Jupyter Notebook or JupyterLab Notebook, it may mean\n",
       "  that the widgets JavaScript is still loading. If this message persists, it\n",
       "  likely means that the widgets JavaScript library is either not installed or\n",
       "  not enabled. See the <a href=\"https://ipywidgets.readthedocs.io/en/stable/user_install.html\">Jupyter\n",
       "  Widgets Documentation</a> for setup instructions.\n",
       "</p>\n",
       "<p>\n",
       "  If you're reading this message in another frontend (for example, a static\n",
       "  rendering on GitHub or <a href=\"https://nbviewer.jupyter.org/\">NBViewer</a>),\n",
       "  it may mean that your frontend doesn't currently support widgets.\n",
       "</p>\n"
      ],
      "text/plain": [
       "HBox(children=(IntProgress(value=0, description='Epoch 0', max=1), HTML(value='')))"
      ]
     },
     "metadata": {},
     "output_type": "display_data"
    },
    {
     "name": "stdout",
     "output_type": "stream",
     "text": [
      "\n",
      "1/1 [==============================] - 1s 998ms/step\n",
      "Accuracy: 90.9090936184 %\n"
     ]
    }
   ],
   "source": [
    "# one pattern\n",
    "batch_size = 1\n",
    "epochs = 200\n",
    "history = model.fit([X, preY], postY,\n",
    "                     batch_size = batch_size,\n",
    "                     epochs = epochs,\n",
    "                     verbose = 0,\n",
    "                     callbacks = [TQDMNotebookCallback()])\n",
    "print('Accuracy:', model.evaluate([X,preY], postY)[1] * 100.0, '%')"
   ]
  },
  {
   "cell_type": "code",
   "execution_count": 66,
   "metadata": {},
   "outputs": [
    {
     "data": {
      "image/png": "[encoded data removed]",
      "text/plain": [
       "<matplotlib.figure.Figure at 0x7f37586a4390>"
      ]
     },
     "metadata": {},
     "output_type": "display_data"
    }
   ],
   "source": [
    "plt.figure(1)\n",
    "\n",
    "plt.subplot(211)\n",
    "plt.plot(history.history['acc'])\n",
    "plt.title('model accuracy')\n",
    "plt.ylabel('accuracy')\n",
    "plt.xlabel('epoch')\n",
    "\n",
    "plt.subplot(212)\n",
    "plt.plot(history.history['loss'])\n",
    "plt.title('model loss')\n",
    "plt.ylabel('loss')\n",
    "plt.xlabel('epoch')\n",
    "plt.tight_layout()\n",
    "plt.show()"
   ]
  },
  {
   "cell_type": "code",
   "execution_count": 67,
   "metadata": {},
   "outputs": [],
   "source": [
    "# Part 1 - make the encoder\n",
    "# Make just a model out of the encoder\n",
    "# input = encoder_input (Input layer)\n",
    "# output = encoder_states (enc Hidden layer * 2)\n",
    "encoder_model=keras.Model(encoder_input,encoder_states)\n",
    "\n",
    "# Part 2 - make the decoder\n",
    "# Make just a model out of the decoder\n",
    "# input = encoder_states (enc Hidden layer * 2)\n",
    "# output = decoder_output\n",
    "decoder_state_input_h=keras.layers.Input(shape=(hidden_size,))\n",
    "decoder_state_input_c=keras.layers.Input(shape=(hidden_size,))\n",
    "\n",
    "# Connect hidden to input(s)\n",
    "decoder_states_input=[decoder_state_input_h,decoder_state_input_c]\n",
    "decoder_hidden_output,decoder_state_h,decoder_state_c = decoder_hidden(decoder_input,\n",
    "                                                                       initial_state=decoder_states_input)\n",
    "decoder_states=[decoder_state_h,decoder_state_c]\n",
    "\n",
    "# Connect output to hidden(s)\n",
    "decoder_output=decoder_dense(decoder_hidden_output)\n",
    "decoder_model=keras.Model([decoder_input]+decoder_states_input,[decoder_output]+decoder_states)"
   ]
  },
  {
   "cell_type": "code",
   "execution_count": 68,
   "metadata": {},
   "outputs": [
    {
     "data": {
      "text/plain": [
       "array([[[ 0.,  0.,  1.,  0.]]])"
      ]
     },
     "execution_count": 68,
     "metadata": {},
     "output_type": "execute_result"
    }
   ],
   "source": [
    "# get gestalt context for input sequences\n",
    "context = encoder_model.predict(X)\n",
    "\n",
    "# prep starting token [[[0,0,1,0]]]\n",
    "token = np.zeros([1,1,Y.shape[2]])\n",
    "token[0,0,2] = 1\n",
    "token"
   ]
  },
  {
   "cell_type": "code",
   "execution_count": 70,
   "metadata": {},
   "outputs": [
    {
     "data": {
      "text/plain": [
       "array([[[ 0.,  1.,  0.,  0.],\n",
       "        [ 0.,  1.,  0.,  0.],\n",
       "        [ 0.,  1.,  0.,  0.],\n",
       "        [ 0.,  1.,  0.,  0.],\n",
       "        [ 0.,  1.,  0.,  0.],\n",
       "        [ 1.,  0.,  0.,  0.],\n",
       "        [ 1.,  0.,  0.,  0.],\n",
       "        [ 1.,  0.,  0.,  0.],\n",
       "        [ 1.,  0.,  0.,  0.],\n",
       "        [ 1.,  0.,  0.,  0.],\n",
       "        [ 0.,  0.,  0.,  1.]]])"
      ]
     },
     "execution_count": 70,
     "metadata": {},
     "output_type": "execute_result"
    }
   ],
   "source": [
    "# complete 11 cycles with decoder\n",
    "result = np.zeros(postY.shape)\n",
    "for x in range(output_length+1):\n",
    "    out, h, c = decoder_model.predict([token] + context)\n",
    "    token = np.round(out)\n",
    "    context = [h,c]\n",
    "    result[:,x,:] = token\n",
    "result"
   ]
  },
  {
   "cell_type": "code",
   "execution_count": 71,
   "metadata": {},
   "outputs": [
    {
     "data": {
      "text/plain": [
       "array([[[ 0.,  1.,  0.,  0.],\n",
       "        [ 1.,  0.,  0.,  0.],\n",
       "        [ 0.,  1.,  0.,  0.],\n",
       "        [ 0.,  1.,  0.,  0.],\n",
       "        [ 0.,  1.,  0.,  0.],\n",
       "        [ 1.,  0.,  0.,  0.],\n",
       "        [ 1.,  0.,  0.,  0.],\n",
       "        [ 1.,  0.,  0.,  0.],\n",
       "        [ 1.,  0.,  0.,  0.],\n",
       "        [ 1.,  0.,  0.,  0.],\n",
       "        [ 0.,  0.,  0.,  1.]]])"
      ]
     },
     "execution_count": 71,
     "metadata": {},
     "output_type": "execute_result"
    }
   ],
   "source": [
    "postY"
   ]
  },
  {
   "cell_type": "code",
   "execution_count": 73,
   "metadata": {},
   "outputs": [],
   "source": [
    "length = 10\n",
    "input_length = length\n",
    "output_length = length\n",
    "\n",
    "# num of patters\n",
    "n_seq = 100\n",
    "\n",
    "# generate Xs\n",
    "x_train = np.concatenate([np.round(np.random.uniform(0,1,[length])).reshape([1,length,1]) for x in range(n_seq)])\n",
    "y_train=np.concatenate([parity(x_train[x,:,:]) for x in range(n_seq)])\n",
    "\n",
    "# Reformat - dictionary approach\n",
    "X=np.concatenate([np.expand_dims(keras.utils.to_categorical(x_train[x,:,:]),axis=0) for x in range(n_seq)])\n",
    "Y=np.concatenate([np.expand_dims(np.vstack([np.array([0,0,1,0]),\n",
    "                  np.hstack([keras.utils.to_categorical(y_train[x,:,:]),np.zeros([output_length,2])]),\n",
    "                  np.array([0,0,0,1])]),axis=0) for x in range(n_seq)])\n",
    "\n",
    "preY=Y[:,0:length+1,:]\n",
    "postY=Y[:,1:length+2,:]"
   ]
  },
  {
   "cell_type": "code",
   "execution_count": 74,
   "metadata": {},
   "outputs": [
    {
     "name": "stdout",
     "output_type": "stream",
     "text": [
      "(100, 10, 2)\n",
      "(100, 12, 4)\n",
      "(100, 11, 4)\n",
      "(100, 11, 4)\n"
     ]
    }
   ],
   "source": [
    "print(X.shape)\n",
    "print(Y.shape)\n",
    "print(preY.shape)\n",
    "print(postY.shape)"
   ]
  },
  {
   "cell_type": "code",
   "execution_count": 75,
   "metadata": {},
   "outputs": [
    {
     "name": "stdout",
     "output_type": "stream",
     "text": [
      "__________________________________________________________________________________________________\n",
      "Layer (type)                    Output Shape         Param #     Connected to                     \n",
      "==================================================================================================\n",
      "input_17 (InputLayer)           (None, None, 2)      0                                            \n",
      "__________________________________________________________________________________________________\n",
      "input_18 (InputLayer)           (None, None, 4)      0                                            \n",
      "__________________________________________________________________________________________________\n",
      "lstm_13 (LSTM)                  [(None, 20), (None,  1840        input_17[0][0]                   \n",
      "__________________________________________________________________________________________________\n",
      "lstm_14 (LSTM)                  [(None, None, 20), ( 2000        input_18[0][0]                   \n",
      "                                                                 lstm_13[0][1]                    \n",
      "                                                                 lstm_13[0][2]                    \n",
      "__________________________________________________________________________________________________\n",
      "dense_7 (Dense)                 (None, None, 4)      84          lstm_14[0][0]                    \n",
      "==================================================================================================\n",
      "Total params: 3,924\n",
      "Trainable params: 3,924\n",
      "Non-trainable params: 0\n",
      "__________________________________________________________________________________________________\n"
     ]
    }
   ],
   "source": [
    "# size of gestalt context representation\n",
    "hidden_size = input_length * 2\n",
    "\n",
    "# encoder construction\n",
    "# make layers\n",
    "encoder_input = keras.layers.Input(shape= (None, X.shape[2]))\n",
    "encoder_hidden = keras.layers.LSTM(hidden_size, return_state = True)\n",
    "\n",
    "# tie the hidden layer to the input layer\n",
    "encoder_output, enc_state_h, enc_state_c = encoder_hidden(encoder_input)\n",
    "\n",
    "# discard encoder outputs and keep only the states\n",
    "encoder_states = [enc_state_h, enc_state_c]\n",
    "\n",
    "\n",
    "# decoder construction\n",
    "# set up the decoder using encoder states as the initial state\n",
    "decoder_input = keras.layers.Input(shape= (None, preY.shape[2]))\n",
    "decoder_hidden = keras.layers.LSTM(hidden_size, return_sequences = True, return_state = True)\n",
    "\n",
    "# connect hidden to input\n",
    "decoder_hidden_output, decoder_state_h, decoder_state_c = decoder_hidden(decoder_input,\n",
    "                                                                         initial_state = encoder_states)\n",
    "\n",
    "decoder_dense = keras.layers.Dense(postY.shape[2], activation = 'softmax')\n",
    "\n",
    "# connect output to hidden\n",
    "decoder_output = decoder_dense(decoder_hidden_output)\n",
    "\n",
    "# Our functoinal API model now has two input layers..\n",
    "# 1. reads from X\n",
    "# 2. reads from preY\n",
    "# single output layer\n",
    "#1. targets are postY\n",
    "model = keras.Model([encoder_input, decoder_input], decoder_output)\n",
    "\n",
    "# compile it\n",
    "model.compile(loss = keras.losses.categorical_crossentropy,\n",
    "              optimizer = keras.optimizers.Adam(),\n",
    "              metrics = ['accuracy'])\n",
    "\n",
    "model.summary()"
   ]
  },
  {
   "cell_type": "code",
   "execution_count": 76,
   "metadata": {},
   "outputs": [
    {
     "data": {
      "image/svg+xml": [
       "<svg height=\"264pt\" viewBox=\"0.00 0.00 277.00 264.00\" width=\"277pt\" xmlns=\"http://www.w3.org/2000/svg\" xmlns:xlink=\"http://www.w3.org/1999/xlink\">\n",
       "<g class=\"graph\" id=\"graph0\" transform=\"scale(1 1) rotate(0) translate(4 260)\">\n",
       "<title>G</title>\n",
       "<polygon fill=\"white\" points=\"-4,4 -4,-260 273,-260 273,4 -4,4\" stroke=\"none\"/>\n",
       "<!-- 139877423531624 -->\n",
       "<g class=\"node\" id=\"node1\"><title>139877423531624</title>\n",
       "<polygon fill=\"none\" points=\"0,-219.5 0,-255.5 132,-255.5 132,-219.5 0,-219.5\" stroke=\"black\"/>\n",
       "<text font-family=\"Times,serif\" font-size=\"14.00\" text-anchor=\"middle\" x=\"66\" y=\"-233.8\">input_17: InputLayer</text>\n",
       "</g>\n",
       "<!-- 139877423533024 -->\n",
       "<g class=\"node\" id=\"node3\"><title>139877423533024</title>\n",
       "<polygon fill=\"none\" points=\"13.5,-146.5 13.5,-182.5 118.5,-182.5 118.5,-146.5 13.5,-146.5\" stroke=\"black\"/>\n",
       "<text font-family=\"Times,serif\" font-size=\"14.00\" text-anchor=\"middle\" x=\"66\" y=\"-160.8\">lstm_13: LSTM</text>\n",
       "</g>\n",
       "<!-- 139877423531624&#45;&gt;139877423533024 -->\n",
       "<g class=\"edge\" id=\"edge1\"><title>139877423531624-&gt;139877423533024</title>\n",
       "<path d=\"M66,-219.313C66,-211.289 66,-201.547 66,-192.569\" fill=\"none\" stroke=\"black\"/>\n",
       "<polygon fill=\"black\" points=\"69.5001,-192.529 66,-182.529 62.5001,-192.529 69.5001,-192.529\" stroke=\"black\"/>\n",
       "</g>\n",
       "<!-- 139877423531008 -->\n",
       "<g class=\"node\" id=\"node2\"><title>139877423531008</title>\n",
       "<polygon fill=\"none\" points=\"137,-146.5 137,-182.5 269,-182.5 269,-146.5 137,-146.5\" stroke=\"black\"/>\n",
       "<text font-family=\"Times,serif\" font-size=\"14.00\" text-anchor=\"middle\" x=\"203\" y=\"-160.8\">input_18: InputLayer</text>\n",
       "</g>\n",
       "<!-- 139877423530616 -->\n",
       "<g class=\"node\" id=\"node4\"><title>139877423530616</title>\n",
       "<polygon fill=\"none\" points=\"81.5,-73.5 81.5,-109.5 186.5,-109.5 186.5,-73.5 81.5,-73.5\" stroke=\"black\"/>\n",
       "<text font-family=\"Times,serif\" font-size=\"14.00\" text-anchor=\"middle\" x=\"134\" y=\"-87.8\">lstm_14: LSTM</text>\n",
       "</g>\n",
       "<!-- 139877423531008&#45;&gt;139877423530616 -->\n",
       "<g class=\"edge\" id=\"edge2\"><title>139877423531008-&gt;139877423530616</title>\n",
       "<path d=\"M186.297,-146.313C177.737,-137.505 167.164,-126.625 157.769,-116.958\" fill=\"none\" stroke=\"black\"/>\n",
       "<polygon fill=\"black\" points=\"160.029,-114.261 150.549,-109.529 155.009,-119.14 160.029,-114.261\" stroke=\"black\"/>\n",
       "</g>\n",
       "<!-- 139877423533024&#45;&gt;139877423530616 -->\n",
       "<g class=\"edge\" id=\"edge3\"><title>139877423533024-&gt;139877423530616</title>\n",
       "<path d=\"M82.4609,-146.313C90.897,-137.505 101.317,-126.625 110.575,-116.958\" fill=\"none\" stroke=\"black\"/>\n",
       "<polygon fill=\"black\" points=\"113.302,-119.172 117.691,-109.529 108.246,-114.33 113.302,-119.172\" stroke=\"black\"/>\n",
       "</g>\n",
       "<!-- 139877424517016 -->\n",
       "<g class=\"node\" id=\"node5\"><title>139877424517016</title>\n",
       "<polygon fill=\"none\" points=\"83,-0.5 83,-36.5 185,-36.5 185,-0.5 83,-0.5\" stroke=\"black\"/>\n",
       "<text font-family=\"Times,serif\" font-size=\"14.00\" text-anchor=\"middle\" x=\"134\" y=\"-14.8\">dense_7: Dense</text>\n",
       "</g>\n",
       "<!-- 139877423530616&#45;&gt;139877424517016 -->\n",
       "<g class=\"edge\" id=\"edge5\"><title>139877423530616-&gt;139877424517016</title>\n",
       "<path d=\"M134,-73.3129C134,-65.2895 134,-55.5475 134,-46.5691\" fill=\"none\" stroke=\"black\"/>\n",
       "<polygon fill=\"black\" points=\"137.5,-46.5288 134,-36.5288 130.5,-46.5289 137.5,-46.5288\" stroke=\"black\"/>\n",
       "</g>\n",
       "</g>\n",
       "</svg>"
      ],
      "text/plain": [
       "<IPython.core.display.SVG object>"
      ]
     },
     "execution_count": 76,
     "metadata": {},
     "output_type": "execute_result"
    }
   ],
   "source": [
    "# visualization - wish we could see the recurrenct weights\n",
    "SVG(model_to_dot(model).create(prog = 'dot', format = 'svg'))"
   ]
  },
  {
   "cell_type": "code",
   "execution_count": 77,
   "metadata": {},
   "outputs": [
    {
     "data": {
      "application/vnd.jupyter.widget-view+json": {
       "model_id": "728ebe95b209446aaaec0b4b7833c572",
       "version_major": 2,
       "version_minor": 0
      },
      "text/html": [
       "<p>Failed to display Jupyter Widget of type <code>HBox</code>.</p>\n",
       "<p>\n",
       "  If you're reading this message in the Jupyter Notebook or JupyterLab Notebook, it may mean\n",
       "  that the widgets JavaScript is still loading. If this message persists, it\n",
       "  likely means that the widgets JavaScript library is either not installed or\n",
       "  not enabled. See the <a href=\"https://ipywidgets.readthedocs.io/en/stable/user_install.html\">Jupyter\n",
       "  Widgets Documentation</a> for setup instructions.\n",
       "</p>\n",
       "<p>\n",
       "  If you're reading this message in another frontend (for example, a static\n",
       "  rendering on GitHub or <a href=\"https://nbviewer.jupyter.org/\">NBViewer</a>),\n",
       "  it may mean that your frontend doesn't currently support widgets.\n",
       "</p>\n"
      ],
      "text/plain": [
       "HBox(children=(IntProgress(value=0, description='Training', max=1500), HTML(value='')))"
      ]
     },
     "metadata": {},
     "output_type": "display_data"
    },
    {
     "data": {
      "application/vnd.jupyter.widget-view+json": {
       "model_id": "5b0c2df35a3d4f3badf2f7ac3f739afa",
       "version_major": 2,
       "version_minor": 0
      },
      "text/html": [
       "<p>Failed to display Jupyter Widget of type <code>HBox</code>.</p>\n",
       "<p>\n",
       "  If you're reading this message in the Jupyter Notebook or JupyterLab Notebook, it may mean\n",
       "  that the widgets JavaScript is still loading. If this message persists, it\n",
       "  likely means that the widgets JavaScript library is either not installed or\n",
       "  not enabled. See the <a href=\"https://ipywidgets.readthedocs.io/en/stable/user_install.html\">Jupyter\n",
       "  Widgets Documentation</a> for setup instructions.\n",
       "</p>\n",
       "<p>\n",
       "  If you're reading this message in another frontend (for example, a static\n",
       "  rendering on GitHub or <a href=\"https://nbviewer.jupyter.org/\">NBViewer</a>),\n",
       "  it may mean that your frontend doesn't currently support widgets.\n",
       "</p>\n"
      ],
      "text/plain": [
       "HBox(children=(IntProgress(value=0, description='Epoch 0', max=80), HTML(value='')))"
      ]
     },
     "metadata": {},
     "output_type": "display_data"
    },
    {
     "name": "stderr",
     "output_type": "stream",
     "text": [
      "/home/csci4850/lib/python3.5/site-packages/keras/callbacks.py:116: UserWarning: Method on_batch_end() is slow compared to the batch update (0.102578). Check your callbacks.\n",
      "  % delta_t_median)\n"
     ]
    },
    {
     "name": "stdout",
     "output_type": "stream",
     "text": [
      "\n",
      "100/100 [==============================] - 0s 703us/step\n",
      "Accuracy: 92.2727274895 %\n"
     ]
    }
   ],
   "source": [
    "# one pattern\n",
    "batch_size = 20\n",
    "epochs = 1500\n",
    "history = model.fit([X, preY], postY,\n",
    "                     batch_size = batch_size,\n",
    "                     epochs = epochs,\n",
    "                     verbose = 0,\n",
    "                     callbacks = [TQDMNotebookCallback()],\n",
    "                     validation_split=0.2)\n",
    "print('Accuracy:', model.evaluate([X,preY], postY)[1] * 100.0, '%')"
   ]
  },
  {
   "cell_type": "code",
   "execution_count": 78,
   "metadata": {},
   "outputs": [
    {
     "data": {
      "image/png": "[encoded data removed]",
      "text/plain": [
       "<matplotlib.figure.Figure at 0x7f3728205eb8>"
      ]
     },
     "metadata": {},
     "output_type": "display_data"
    }
   ],
   "source": [
    "plt.figure(1)\n",
    "\n",
    "plt.subplot(211)\n",
    "plt.plot(history.history['acc'])\n",
    "plt.plot(history.history['val_acc'])\n",
    "plt.title('model accuracy')\n",
    "plt.ylabel('accuracy')\n",
    "plt.xlabel('epoch')\n",
    "plt.legend(['train', 'test'], loc='upper left')\n",
    "\n",
    "plt.subplot(212)\n",
    "plt.plot(history.history['loss'])\n",
    "plt.plot(history.history['val_loss'])\n",
    "plt.title('model loss')\n",
    "plt.ylabel('loss')\n",
    "plt.xlabel('epoch')\n",
    "plt.legend(['train', 'test'], loc='upper left')\n",
    "plt.tight_layout()\n",
    "plt.show()"
   ]
  },
  {
   "cell_type": "code",
   "execution_count": 79,
   "metadata": {},
   "outputs": [],
   "source": [
    "# testing\n",
    "\n",
    "# Part 1 - make the encoder\n",
    "# Make just a model out of the encoder\n",
    "# input = encoder_input (Input layer)\n",
    "# output = encoder_states (enc Hidden layer * 2)\n",
    "encoder_model=keras.Model(encoder_input,encoder_states)\n",
    "\n",
    "# Part 2 - make the decoder\n",
    "# Make just a model out of the decoder\n",
    "# input = encoder_states (enc Hidden layer * 2)\n",
    "# output = decoder_output\n",
    "decoder_state_input_h=keras.layers.Input(shape=(hidden_size,))\n",
    "decoder_state_input_c=keras.layers.Input(shape=(hidden_size,))\n",
    "\n",
    "# Connect hidden to input(s)\n",
    "decoder_states_input=[decoder_state_input_h,decoder_state_input_c]\n",
    "decoder_hidden_output,decoder_state_h,decoder_state_c = decoder_hidden(decoder_input,\n",
    "                                                                       initial_state=decoder_states_input)\n",
    "decoder_states=[decoder_state_h,decoder_state_c]\n",
    "\n",
    "# Connect output to hidden(s)\n",
    "decoder_output=decoder_dense(decoder_hidden_output)\n",
    "decoder_model=keras.Model([decoder_input]+decoder_states_input,[decoder_output]+decoder_states)"
   ]
  },
  {
   "cell_type": "code",
   "execution_count": 80,
   "metadata": {},
   "outputs": [],
   "source": [
    "error = 0\n",
    "for p in range(n_seq):\n",
    "    # get gestalt context from input seq\n",
    "    context = encoder_model.predict(X[p:p+1,:,:])\n",
    "    \n",
    "    # prep starting token [[[0,0,1,0]]]\n",
    "    token = np.zeros([1,1,Y.shape[2]])\n",
    "    token[0,0,2] = 1\n",
    "    token\n",
    "    \n",
    "    # complete 11 cycles\n",
    "    result = np.zeros(postY.shape)\n",
    "    for x in range(output_length + 1):\n",
    "        out, h, c = decoder_model.predict([token] + context)\n",
    "        token = np.round(out)\n",
    "        context = [h,c]\n",
    "        result[:,x,:] = token\n",
    "    error += np.sum(np.abs(result - postY[p:p+1,:,:]))/ 2.0"
   ]
  },
  {
   "cell_type": "code",
   "execution_count": 82,
   "metadata": {},
   "outputs": [
    {
     "name": "stdout",
     "output_type": "stream",
     "text": [
      "Overall accuracy: 84.900000%\n"
     ]
    }
   ],
   "source": [
    "print(\"Overall accuracy: %f%%\" %(100.00 - (error / (n_seq * output_length))))"
   ]
  }
 ],
 "metadata": {
  "kernelspec": {
   "display_name": "Python 3",
   "language": "python",
   "name": "python3"
  },
  "language_info": {
   "codemirror_mode": {
    "name": "ipython",
    "version": 3
   },
   "file_extension": ".py",
   "mimetype": "text/x-python",
   "name": "python",
   "nbconvert_exporter": "python",
   "pygments_lexer": "ipython3",
   "version": "3.5.3"
  }
 },
 "nbformat": 4,
 "nbformat_minor": 2
}
